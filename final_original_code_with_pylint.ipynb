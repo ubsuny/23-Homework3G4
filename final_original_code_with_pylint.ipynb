{
  "nbformat": 4,
  "nbformat_minor": 0,
  "metadata": {
    "colab": {
      "provenance": [],
      "authorship_tag": "ABX9TyObRl/VJ8FJ2OuK4u9HEm63",
      "include_colab_link": true
    },
    "kernelspec": {
      "name": "python3",
      "display_name": "Python 3"
    },
    "language_info": {
      "name": "python"
    }
  },
  "cells": [
    {
      "cell_type": "markdown",
      "metadata": {
        "id": "view-in-github",
        "colab_type": "text"
      },
      "source": [
        "<a href=\"https://colab.research.google.com/github/tirthbha/23-Homework3G4/blob/final_code/final_original_code_with_pylint.ipynb\" target=\"_parent\"><img src=\"https://colab.research.google.com/assets/colab-badge.svg\" alt=\"Open In Colab\"/></a>"
      ]
    },
    {
      "cell_type": "code",
      "source": [
        "#hw_work_done_G4.py\n",
        "def calculate_work_done(velocities, mass):\n",
        "    \"\"\"\n",
        "    Calculate and yield the work done at each velocity point.\n",
        "\n",
        "    Args:\n",
        "        velocities (list): List of velocities in meters per second.\n",
        "        mass (float): Mass of the car in kilograms.\n",
        "\n",
        "    Yields:\n",
        "        float: Work done at each velocity point in Joules.\n",
        "    \"\"\"\n",
        "    prev_velocity = 0\n",
        "    for velocity in velocities:\n",
        "        # Calculate the change in kinetic energy (delta_ke) using the formula for kinetic energy\n",
        "        delta_ke = 0.5 * mass * (velocity**2 - prev_velocity**2)\n",
        "        prev_velocity = velocity  # Update the previous velocity for the next iteration\n",
        "        yield delta_ke  # Yield the calculated work done at each point"
      ],
      "metadata": {
        "id": "uRN-U5o1nkrQ"
      },
      "execution_count": 13,
      "outputs": []
    },
    {
      "cell_type": "code",
      "source": [
        "%%writefile hw_work_done_G4.py"
      ],
      "metadata": {
        "colab": {
          "base_uri": "https://localhost:8080/"
        },
        "id": "W8lCJ4GgnpT3",
        "outputId": "c721d9e0-64f9-40f7-8226-3a281fde7aa1"
      },
      "execution_count": 14,
      "outputs": [
        {
          "output_type": "stream",
          "name": "stdout",
          "text": [
            "Writing hw_work_done_G4.py\n"
          ]
        }
      ]
    },
    {
      "cell_type": "code",
      "execution_count": 12,
      "metadata": {
        "colab": {
          "base_uri": "https://localhost:8080/"
        },
        "id": "QpgN01uwltSp",
        "outputId": "a1a21158-76f9-40d7-ed2b-756c637c5501"
      },
      "outputs": [
        {
          "output_type": "stream",
          "name": "stdout",
          "text": [
            "9992.24\n",
            "29976.71\n",
            "49961.19\n",
            "69945.67\n",
            "89930.14\n",
            "Overall Work Done: 249805.95 Joules\n"
          ]
        }
      ],
      "source": [
        "#hw_work_done_G4.py\n",
        "def calculate_work_done(velocities, mass):\n",
        "    \"\"\"\n",
        "    Calculate and yield the work done at each velocity point.\n",
        "\n",
        "    Args:\n",
        "        velocities (list): List of velocities in meters per second.\n",
        "        mass (float): Mass of the car in kilograms.\n",
        "\n",
        "    Yields:\n",
        "        float: Work done at each velocity point in Joules.\n",
        "    \"\"\"\n",
        "    prev_velocity = 0\n",
        "    for velocity in velocities:\n",
        "        # Calculate the change in kinetic energy (delta_ke) using the formula for kinetic energy\n",
        "        delta_ke = 0.5 * mass * (velocity**2 - prev_velocity**2)\n",
        "        prev_velocity = velocity  # Update the previous velocity for the next iteration\n",
        "        yield delta_ke  # Yield the calculated work done at each point\n",
        "# Given data\n",
        "velocities_mph = [10, 20, 30, 40, 50]  # List of velocities in miles per hour\n",
        "time_hours = 1  # Time in hours\n",
        "mph_to_mps = 0.44704  # Conversion factor to convert miles per hour to meters per second\n",
        "mass_of_car = 1000  # Mass of the car in kilograms\n",
        "\n",
        "# Convert velocities from miles per hour to meters per second using a lambda function\n",
        "convert_to_mps = lambda v_mph: v_mph * mph_to_mps\n",
        "velocities_mps = list(map(convert_to_mps, velocities_mph))\n",
        "\n",
        "# Calculate work done at each point and store it in a list\n",
        "work_done_list = list(calculate_work_done(velocities_mps, mass_of_car))\n",
        "\n",
        "# Calculate work done at each point again and estimate the overall work done by summing them up\n",
        "total_work_done = 0\n",
        "for delta_ke in calculate_work_done(velocities_mps, mass_of_car):\n",
        "    total_work_done += delta_ke\n",
        "# Print the rounded values of work done at each velocity point\n",
        "for calculated in work_done_list:\n",
        "    print(round(calculated, 2))\n",
        "\n",
        "# Round the overall work done and then output it in Joules\n",
        "rounded_total_work_done = round(total_work_done, 2)\n",
        "print(\"Overall Work Done:\", rounded_total_work_done, \"Joules\")\n"
      ]
    },
    {
      "cell_type": "code",
      "source": [
        "from google.colab import drive\n",
        "drive.mount(\"/content/drive\")"
      ],
      "metadata": {
        "colab": {
          "base_uri": "https://localhost:8080/"
        },
        "id": "4JwSh9hFlt7G",
        "outputId": "68fb8832-fbe5-4913-fb66-192251e63eb2"
      },
      "execution_count": 15,
      "outputs": [
        {
          "output_type": "stream",
          "name": "stdout",
          "text": [
            "Mounted at /content/drive\n"
          ]
        }
      ]
    },
    {
      "cell_type": "code",
      "source": [
        "!pip install black[jupyter] --quiet\n",
        "!pip install nbqa flake8 pylint --quiet"
      ],
      "metadata": {
        "colab": {
          "base_uri": "https://localhost:8080/"
        },
        "id": "YSBMccqJni7v",
        "outputId": "04c4f72b-dc6b-43ef-b136-2532243768bc"
      },
      "execution_count": 17,
      "outputs": [
        {
          "output_type": "stream",
          "name": "stdout",
          "text": [
            "\u001b[2K     \u001b[90m━━━━━━━━━━━━━━━━━━━━━━━━━━━━━━━━━━━━━━━━\u001b[0m \u001b[32m1.6/1.6 MB\u001b[0m \u001b[31m10.7 MB/s\u001b[0m eta \u001b[36m0:00:00\u001b[0m\n",
            "\u001b[2K     \u001b[90m━━━━━━━━━━━━━━━━━━━━━━━━━━━━━━━━━━━━━━━━\u001b[0m \u001b[32m1.6/1.6 MB\u001b[0m \u001b[31m17.5 MB/s\u001b[0m eta \u001b[36m0:00:00\u001b[0m\n",
            "\u001b[2K     \u001b[90m━━━━━━━━━━━━━━━━━━━━━━━━━━━━━━━━━━━━━━━━\u001b[0m \u001b[32m58.3/58.3 kB\u001b[0m \u001b[31m3.4 MB/s\u001b[0m eta \u001b[36m0:00:00\u001b[0m\n",
            "\u001b[2K     \u001b[90m━━━━━━━━━━━━━━━━━━━━━━━━━━━━━━━━━━━━━━\u001b[0m \u001b[32m510.2/510.2 kB\u001b[0m \u001b[31m10.1 MB/s\u001b[0m eta \u001b[36m0:00:00\u001b[0m\n",
            "\u001b[2K     \u001b[90m━━━━━━━━━━━━━━━━━━━━━━━━━━━━━━━━━━━━━━━━\u001b[0m \u001b[32m45.3/45.3 kB\u001b[0m \u001b[31m4.4 MB/s\u001b[0m eta \u001b[36m0:00:00\u001b[0m\n",
            "\u001b[2K     \u001b[90m━━━━━━━━━━━━━━━━━━━━━━━━━━━━━━━━━━━━━━━━\u001b[0m \u001b[32m62.6/62.6 kB\u001b[0m \u001b[31m2.6 MB/s\u001b[0m eta \u001b[36m0:00:00\u001b[0m\n",
            "\u001b[2K     \u001b[90m━━━━━━━━━━━━━━━━━━━━━━━━━━━━━━━━━━━━━━\u001b[0m \u001b[32m275.1/275.1 kB\u001b[0m \u001b[31m12.0 MB/s\u001b[0m eta \u001b[36m0:00:00\u001b[0m\n",
            "\u001b[2K     \u001b[90m━━━━━━━━━━━━━━━━━━━━━━━━━━━━━━━━━━━━━━━━\u001b[0m \u001b[32m91.2/91.2 kB\u001b[0m \u001b[31m9.1 MB/s\u001b[0m eta \u001b[36m0:00:00\u001b[0m\n",
            "\u001b[2K     \u001b[90m━━━━━━━━━━━━━━━━━━━━━━━━━━━━━━━━━━━━━━\u001b[0m \u001b[32m115.3/115.3 kB\u001b[0m \u001b[31m10.5 MB/s\u001b[0m eta \u001b[36m0:00:00\u001b[0m\n",
            "\u001b[?25h"
          ]
        }
      ]
    },
    {
      "cell_type": "code",
      "source": [
        "!nbqa flake8 /content/drive/MyDrive/'Colab Notebooks'/'final_original_code.ipynb'"
      ],
      "metadata": {
        "colab": {
          "base_uri": "https://localhost:8080/"
        },
        "id": "YOB3FuXSp0kw",
        "outputId": "d46d1233-766f-459e-8184-236e77910705"
      },
      "execution_count": 18,
      "outputs": [
        {
          "output_type": "stream",
          "name": "stdout",
          "text": [
            "drive/MyDrive/Colab Notebooks/final_original_code.ipynb:cell_1:1:1: E265 block comment should start with '# '\n",
            "drive/MyDrive/Colab Notebooks/final_original_code.ipynb:cell_1:15:80: E501 line too long (96 > 79 characters)\n",
            "drive/MyDrive/Colab Notebooks/final_original_code.ipynb:cell_1:17:80: E501 line too long (87 > 79 characters)\n",
            "drive/MyDrive/Colab Notebooks/final_original_code.ipynb:cell_3:1:1: E265 block comment should start with '# '\n",
            "drive/MyDrive/Colab Notebooks/final_original_code.ipynb:cell_3:2:1: F811 redefinition of unused 'calculate_work_done' from line 3\n",
            "drive/MyDrive/Colab Notebooks/final_original_code.ipynb:cell_3:15:80: E501 line too long (96 > 79 characters)\n",
            "drive/MyDrive/Colab Notebooks/final_original_code.ipynb:cell_3:17:80: E501 line too long (87 > 79 characters)\n",
            "drive/MyDrive/Colab Notebooks/final_original_code.ipynb:cell_3:24:80: E501 line too long (88 > 79 characters)\n",
            "drive/MyDrive/Colab Notebooks/final_original_code.ipynb:cell_3:27:80: E501 line too long (85 > 79 characters)\n",
            "drive/MyDrive/Colab Notebooks/final_original_code.ipynb:cell_3:28:1: E731 do not assign a lambda expression, use a def\n",
            "drive/MyDrive/Colab Notebooks/final_original_code.ipynb:cell_3:34:80: E501 line too long (95 > 79 characters)\n",
            "drive/MyDrive/Colab Notebooks/final_original_code.ipynb:cell_4:1:1: E402 module level import not at top of file\n"
          ]
        }
      ]
    },
    {
      "cell_type": "code",
      "source": [
        "\n",
        "!nbqa pylint /content/drive/MyDrive/'Colab Notebooks'/'final_original_code.ipynb'"
      ],
      "metadata": {
        "colab": {
          "base_uri": "https://localhost:8080/"
        },
        "id": "yphHX9mdqRMA",
        "outputId": "18625ec8-37e6-4f43-bbce-301876ae9b6e"
      },
      "execution_count": 23,
      "outputs": [
        {
          "output_type": "stream",
          "name": "stdout",
          "text": [
            "************* Module final_original_code\n",
            "drive/MyDrive/Colab Notebooks/final_original_code.ipynb:cell_1:0:0: C0114: Missing module docstring (missing-module-docstring)\n",
            "drive/MyDrive/Colab Notebooks/final_original_code.ipynb:cell_1:16:8: W0621: Redefining name 'delta_ke' from outer scope (line 58) (redefined-outer-name)\n",
            "drive/MyDrive/Colab Notebooks/final_original_code.ipynb:cell_3:2:0: E0102: function already defined line 3 (function-redefined)\n",
            "drive/MyDrive/Colab Notebooks/final_original_code.ipynb:cell_3:16:8: W0621: Redefining name 'delta_ke' from outer scope (line 58) (redefined-outer-name)\n",
            "drive/MyDrive/Colab Notebooks/final_original_code.ipynb:cell_3:23:0: C0103: Constant name \"time_hours\" doesn't conform to UPPER_CASE naming style (invalid-name)\n",
            "drive/MyDrive/Colab Notebooks/final_original_code.ipynb:cell_3:24:0: C0103: Constant name \"mph_to_mps\" doesn't conform to UPPER_CASE naming style (invalid-name)\n",
            "drive/MyDrive/Colab Notebooks/final_original_code.ipynb:cell_3:25:0: C0103: Constant name \"mass_of_car\" doesn't conform to UPPER_CASE naming style (invalid-name)\n",
            "drive/MyDrive/Colab Notebooks/final_original_code.ipynb:cell_3:28:17: C3001: Lambda expression assigned to a variable. Define a function using the \"def\" keyword instead. (unnecessary-lambda-assignment)\n",
            "drive/MyDrive/Colab Notebooks/final_original_code.ipynb:cell_3:35:0: C0103: Constant name \"total_work_done\" doesn't conform to UPPER_CASE naming style (invalid-name)\n",
            "drive/MyDrive/Colab Notebooks/final_original_code.ipynb:cell_4:1:0: C0413: Import \"from google.colab import drive\" should be placed at the top of the module (wrong-import-position)\n",
            "drive/MyDrive/Colab Notebooks/final_original_code.ipynb:cell_9:1:0: W0104: Statement seems to have no effect (pointless-statement)\n",
            "drive/MyDrive/Colab Notebooks/final_original_code.ipynb:cell_9:1:0: E0602: Undefined variable 'ls' (undefined-variable)\n",
            "\n",
            "-----------------------------------\n",
            "Your code has been rated at 3.10/10\n",
            "\n"
          ]
        }
      ]
    },
    {
      "cell_type": "code",
      "source": [],
      "metadata": {
        "id": "JwjyXtIqqbEz"
      },
      "execution_count": 22,
      "outputs": []
    },
    {
      "cell_type": "code",
      "source": [],
      "metadata": {
        "id": "EFIvoWR4qfjk"
      },
      "execution_count": 22,
      "outputs": []
    },
    {
      "cell_type": "code",
      "source": [],
      "metadata": {
        "id": "_OhUVpziqg7Z"
      },
      "execution_count": null,
      "outputs": []
    }
  ]
}