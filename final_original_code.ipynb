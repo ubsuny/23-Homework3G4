{
  "nbformat": 4,
  "nbformat_minor": 0,
  "metadata": {
    "colab": {
      "provenance": [],
      "authorship_tag": "ABX9TyM53TsMXvh5ipaWkM9OUfVX",
      "include_colab_link": true
    },
    "kernelspec": {
      "name": "python3",
      "display_name": "Python 3"
    },
    "language_info": {
      "name": "python"
    }
  },
  "cells": [
    {
      "cell_type": "markdown",
      "metadata": {
        "id": "view-in-github",
        "colab_type": "text"
      },
      "source": [
        "<a href=\"https://colab.research.google.com/github/tirthbha/23-Homework3G4/blob/final_code/final_original_code.ipynb\" target=\"_parent\"><img src=\"https://colab.research.google.com/assets/colab-badge.svg\" alt=\"Open In Colab\"/></a>"
      ]
    },
    {
      "cell_type": "code",
      "source": [
        "#hw_work_done_G4.py\n",
        "def calculate_work_done(velocities, mass):\n",
        "    \"\"\"\n",
        "    Calculate and yield the work done at each velocity point.\n",
        "\n",
        "    Args:\n",
        "        velocities (list): List of velocities in meters per second.\n",
        "        mass (float): Mass of the car in kilograms.\n",
        "\n",
        "    Yields:\n",
        "        float: Work done at each velocity point in Joules.\n",
        "    \"\"\"\n",
        "    prev_velocity = 0\n",
        "    for velocity in velocities:\n",
        "        # Calculate the change in kinetic energy (delta_ke) using the formula for kinetic energy\n",
        "        delta_ke = 0.5 * mass * (velocity**2 - prev_velocity**2)\n",
        "        prev_velocity = velocity  # Update the previous velocity for the next iteration\n",
        "        yield delta_ke  # Yield the calculated work done at each point"
      ],
      "metadata": {
        "id": "uRN-U5o1nkrQ"
      },
      "execution_count": 13,
      "outputs": []
    },
    {
      "cell_type": "code",
      "source": [
        "%%writefile hw_work_done_G4.py"
      ],
      "metadata": {
        "colab": {
          "base_uri": "https://localhost:8080/"
        },
        "id": "W8lCJ4GgnpT3",
        "outputId": "c721d9e0-64f9-40f7-8226-3a281fde7aa1"
      },
      "execution_count": 14,
      "outputs": [
        {
          "output_type": "stream",
          "name": "stdout",
          "text": [
            "Writing hw_work_done_G4.py\n"
          ]
        }
      ]
    },
    {
      "cell_type": "code",
      "execution_count": 12,
      "metadata": {
        "colab": {
          "base_uri": "https://localhost:8080/"
        },
        "id": "QpgN01uwltSp",
        "outputId": "a1a21158-76f9-40d7-ed2b-756c637c5501"
      },
      "outputs": [
        {
          "output_type": "stream",
          "name": "stdout",
          "text": [
            "9992.24\n",
            "29976.71\n",
            "49961.19\n",
            "69945.67\n",
            "89930.14\n",
            "Overall Work Done: 249805.95 Joules\n"
          ]
        }
      ],
      "source": [
        "#hw_work_done_G4.py\n",
        "def calculate_work_done(velocities, mass):\n",
        "    \"\"\"\n",
        "    Calculate and yield the work done at each velocity point.\n",
        "\n",
        "    Args:\n",
        "        velocities (list): List of velocities in meters per second.\n",
        "        mass (float): Mass of the car in kilograms.\n",
        "\n",
        "    Yields:\n",
        "        float: Work done at each velocity point in Joules.\n",
        "    \"\"\"\n",
        "    prev_velocity = 0\n",
        "    for velocity in velocities:\n",
        "        # Calculate the change in kinetic energy (delta_ke) using the formula for kinetic energy\n",
        "        delta_ke = 0.5 * mass * (velocity**2 - prev_velocity**2)\n",
        "        prev_velocity = velocity  # Update the previous velocity for the next iteration\n",
        "        yield delta_ke  # Yield the calculated work done at each point\n",
        "# Given data\n",
        "velocities_mph = [10, 20, 30, 40, 50]  # List of velocities in miles per hour\n",
        "time_hours = 1  # Time in hours\n",
        "mph_to_mps = 0.44704  # Conversion factor to convert miles per hour to meters per second\n",
        "mass_of_car = 1000  # Mass of the car in kilograms\n",
        "\n",
        "# Convert velocities from miles per hour to meters per second using a lambda function\n",
        "convert_to_mps = lambda v_mph: v_mph * mph_to_mps\n",
        "velocities_mps = list(map(convert_to_mps, velocities_mph))\n",
        "\n",
        "# Calculate work done at each point and store it in a list\n",
        "work_done_list = list(calculate_work_done(velocities_mps, mass_of_car))\n",
        "\n",
        "# Calculate work done at each point again and estimate the overall work done by summing them up\n",
        "total_work_done = 0\n",
        "for delta_ke in calculate_work_done(velocities_mps, mass_of_car):\n",
        "    total_work_done += delta_ke\n",
        "# Print the rounded values of work done at each velocity point\n",
        "for calculated in work_done_list:\n",
        "    print(round(calculated, 2))\n",
        "\n",
        "# Round the overall work done and then output it in Joules\n",
        "rounded_total_work_done = round(total_work_done, 2)\n",
        "print(\"Overall Work Done:\", rounded_total_work_done, \"Joules\")\n"
      ]
    },
    {
      "cell_type": "code",
      "source": [],
      "metadata": {
        "id": "4JwSh9hFlt7G"
      },
      "execution_count": null,
      "outputs": []
    },
    {
      "cell_type": "code",
      "source": [],
      "metadata": {
        "id": "YSBMccqJni7v"
      },
      "execution_count": null,
      "outputs": []
    }
  ]
}