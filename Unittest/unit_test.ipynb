{
  "nbformat": 4,
  "nbformat_minor": 0,
  "metadata": {
    "colab": {
      "provenance": [],
      "authorship_tag": "ABX9TyMzKcIVlvbKKORaZsEa7d4w",
      "include_colab_link": true
    },
    "kernelspec": {
      "name": "python3",
      "display_name": "Python 3"
    },
    "language_info": {
      "name": "python"
    }
  },
  "cells": [
    {
      "cell_type": "markdown",
      "metadata": {
        "id": "view-in-github",
        "colab_type": "text"
      },
      "source": [
        "<a href=\"https://colab.research.google.com/github/tirthbha/23-Homework3G4/blob/unit_test_with_null_error/unit_test.ipynb\" target=\"_parent\"><img src=\"https://colab.research.google.com/assets/colab-badge.svg\" alt=\"Open In Colab\"/></a>"
      ]
    },
    {
      "cell_type": "code",
      "execution_count": 30,
      "metadata": {
        "colab": {
          "base_uri": "https://localhost:8080/"
        },
        "id": "1j5c2DQXbQr6",
        "outputId": "19dcd938-e0be-40a8-f284-bd6f65a5e742"
      },
      "outputs": [
        {
          "output_type": "stream",
          "name": "stderr",
          "text": [
            "test_calculate_work_done (__main__.TestCalculateWorkDone) ... ok\n",
            "test_calculate_work_done_case1 (__main__.TestCalculateWorkDone) ... ok\n",
            "test_calculate_work_done_case2 (__main__.TestCalculateWorkDone) ... ok\n",
            "test_calculate_work_done_case3 (__main__.TestCalculateWorkDone) ... ok\n",
            "\n",
            "----------------------------------------------------------------------\n",
            "Ran 4 tests in 0.020s\n",
            "\n",
            "OK\n"
          ]
        },
        {
          "output_type": "stream",
          "name": "stdout",
          "text": [
            "\n",
            "Test Results:\n",
            "Number of Tests Run: 4\n",
            "Number of Failures: 0\n",
            "Number of Errors: 0\n",
            "\n",
            "Work Done in Test1 with increasing velocity: 0.00, 39968.95, 49961.19, 69945.67, 89930.14\n",
            "\n",
            "Work Done in Test2 with decreasing velocity: 249805.95, -89930.14, -69945.67, -49961.19, -29976.71, -9992.24\n",
            "\n",
            "Work Done in Test3 with random velocity: 89930.14, -87432.08, 7494.18, 12490.30, 17486.42\n",
            "\n",
            "Work Done in Test4 with initial and final velocity zero: 99.92, 299.77, 1199.07, 1998.45, -3597.21\n"
          ]
        }
      ],
      "source": [
        "import unittest\n",
        "import math\n",
        "import unit_test\n",
        "\n",
        "# Given data\n",
        "velocities_mph = [0, 20, 30, 40, 50]  # Initial velocities in miles per hour\n",
        "mph_to_mps = 0.44704  # Conversion factor from mph to m/s\n",
        "mass_of_car = 1000  # Mass of the car in kilograms\n",
        "\n",
        "# Convert velocities from mph to m/s using the same lambda function\n",
        "convert_to_mps = lambda v_mph: v_mph * mph_to_mps\n",
        "velocities_mps = list(map(convert_to_mps, velocities_mph))\n",
        "\n",
        "# Create a dictionary to store expected work done values\n",
        "expected_work_done_values = {}\n",
        "\n",
        "# Calculate the expected work done at each point manually for the original case\n",
        "expected_work_done = []\n",
        "prev_velocity = 0\n",
        "for velocity in velocities_mps:\n",
        "    # Calculate the change in kinetic energy using the same formula as in the function\n",
        "    delta_ke = 0.5 * mass_of_car * (velocity**2 - prev_velocity**2)\n",
        "    prev_velocity = velocity\n",
        "    expected_work_done.append(delta_ke)\n",
        "expected_work_done_values[\"Test1 with increasing velocity\"] = expected_work_done\n",
        "\n",
        "# Create a test class that inherits from unittest.TestCase\n",
        "class TestCalculateWorkDone(unittest.TestCase):\n",
        "\n",
        "    # Define a test method\n",
        "    def test_calculate_work_done(self):\n",
        "        # Calculate work done using the calculate_work_done function\n",
        "        calculated_work_done = calculate_work_done(velocities_mps, mass_of_car)\n",
        "\n",
        "        for expected, calculated in zip(expected_work_done, calculated_work_done):\n",
        "            # Use assertAlmostEqual to compare floating-point values with tolerance\n",
        "            self.assertAlmostEqual(expected, calculated, places=9, msg=f\"Expected {expected:.2f}, but got {calculated:.2f}\")\n",
        "\n",
        "    # Additional test with different velocities\n",
        "    def test_calculate_work_done_case1(self):\n",
        "        velocities_mph = [50, 40, 30, 20, 10, 0]  # Additional velocities\n",
        "        # Convert velocities from mph to m/s using the same lambda function\n",
        "        velocities_mps = list(map(convert_to_mps, velocities_mph))\n",
        "\n",
        "        # Calculate the expected work done at each point manually for the additional case\n",
        "        expected_work_done = []\n",
        "        prev_velocity = 0\n",
        "        for velocity in velocities_mps:\n",
        "            delta_ke = 0.5 * mass_of_car * (velocity**2 - prev_velocity**2)\n",
        "            prev_velocity = velocity\n",
        "            expected_work_done.append(delta_ke)\n",
        "        expected_work_done_values[\"Test2 with decreasing velocity\"] = expected_work_done\n",
        "\n",
        "        # Calculate work done using the calculate_work_done function\n",
        "        calculated_work_done = calculate_work_done(velocities_mps, mass_of_car)\n",
        "\n",
        "        for expected, calculated in zip(expected_work_done, calculated_work_done):\n",
        "            # Use assertAlmostEqual to compare floating-point values with tolerance\n",
        "            self.assertAlmostEqual(expected, calculated, places=9, msg=f\"Expected {expected:.2f}, but got {calculated:.2f}\")\n",
        "\n",
        "    # Additional test with different velocities (another case)\n",
        "    def test_calculate_work_done_case2(self):\n",
        "        velocities_mph = [30, 5, 10, 15, 20]  # Additional velocities\n",
        "        # Convert velocities from mph to m/s using the same lambda function\n",
        "        velocities_mps = list(map(convert_to_mps, velocities_mph))\n",
        "\n",
        "        # Calculate the expected work done at each point manually for this additional case\n",
        "        expected_work_done = []\n",
        "        prev_velocity = 0\n",
        "        for velocity in velocities_mps:\n",
        "            delta_ke = 0.5 * mass_of_car * (velocity**2 - prev_velocity**2)\n",
        "            prev_velocity = velocity\n",
        "            expected_work_done.append(delta_ke)\n",
        "        expected_work_done_values[\"Test3 with random velocity\"] = expected_work_done\n",
        "\n",
        "        # Calculate work done using the calculate_work_done function\n",
        "        calculated_work_done = calculate_work_done(velocities_mps, mass_of_car)\n",
        "\n",
        "        for expected, calculated in zip(expected_work_done, calculated_work_done):\n",
        "            # Use assertAlmostEqual to compare floating-point values with tolerance\n",
        "            self.assertAlmostEqual(expected, calculated, places=9, msg=f\"Expected {expected:.2f}, but got {calculated:.2f}\")\n",
        "\n",
        "    # Additional test with different velocities (yet another case)\n",
        "    def test_calculate_work_done_case3(self):\n",
        "        velocities_mph = [1, 2, 4, 6, 0]  # Additional velocities\n",
        "        # Convert velocities from mph to m/s using the same lambda function\n",
        "        velocities_mps = list(map(convert_to_mps, velocities_mph))\n",
        "\n",
        "        # Calculate the expected work done at each point manually for this additional case\n",
        "        expected_work_done = []\n",
        "        prev_velocity = 0\n",
        "        for velocity in velocities_mps:\n",
        "            delta_ke = 0.5 * mass_of_car * (velocity**2 - prev_velocity**2)\n",
        "            prev_velocity = velocity\n",
        "            expected_work_done.append(delta_ke)\n",
        "        expected_work_done_values[\"Test4 with initial and final velocity zero\"] = expected_work_done\n",
        "\n",
        "        # Calculate work done using the calculate_work_done function\n",
        "        calculated_work_done = calculate_work_done(velocities_mps, mass_of_car)\n",
        "\n",
        "        for expected, calculated in zip(expected_work_done, calculated_work_done):\n",
        "            # Use assertAlmostEqual to compare floating-point values with tolerance\n",
        "            self.assertAlmostEqual(expected, calculated, places=9, msg=f\"Expected {expected:.2f}, but got {calculated:.2f}\")\n",
        "\n",
        "if __name__ == '__main__':\n",
        "    # Create a test suite\n",
        "    suite = unittest.TestLoader().loadTestsFromTestCase(TestCalculateWorkDone)\n",
        "\n",
        "    # Run the test suite and capture the results\n",
        "    test_runner = unittest.TextTestRunner(verbosity=2)\n",
        "    test_result = test_runner.run(suite)\n",
        "\n",
        "    # Get the test results and print them\n",
        "    print(\"\\nTest Results:\")\n",
        "    print(f\"Number of Tests Run: {test_result.testsRun}\")\n",
        "    print(f\"Number of Failures: {len(test_result.failures)}\")\n",
        "    print(f\"Number of Errors: {len(test_result.errors)}\")\n",
        "\n",
        "# Access and print the values of expected_work_done for all cases\n",
        "for case, values in expected_work_done_values.items():\n",
        "    print(f\"\\nWork Done in {case}: {', '.join(map(lambda x: f'{x:.2f}', values))}\")\n"
      ]
    },
    {
      "cell_type": "code",
      "source": [],
      "metadata": {
        "id": "qKw_uv3TqRoR"
      },
      "execution_count": null,
      "outputs": []
    }
  ]
}
