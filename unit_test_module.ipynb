{
  "nbformat": 4,
  "nbformat_minor": 0,
  "metadata": {
    "colab": {
      "provenance": [],
      "authorship_tag": "ABX9TyOrKXGePxq0GVA9WccsE82M",
      "include_colab_link": true
    },
    "kernelspec": {
      "name": "python3",
      "display_name": "Python 3"
    },
    "language_info": {
      "name": "python"
    }
  },
  "cells": [
    {
      "cell_type": "markdown",
      "metadata": {
        "id": "view-in-github",
        "colab_type": "text"
      },
      "source": [
        "<a href=\"https://colab.research.google.com/github/tirthbha/23-Homework3G4/blob/unit_test_module/unit_test_module.ipynb\" target=\"_parent\"><img src=\"https://colab.research.google.com/assets/colab-badge.svg\" alt=\"Open In Colab\"/></a>"
      ]
    },
    {
      "cell_type": "code",
      "execution_count": null,
      "metadata": {
        "id": "b6S311-7jwe8"
      },
      "outputs": [],
      "source": [
        "# module: unit_test.py\n",
        "# Define a function to calculate work done\n",
        "def calculate_work_done(velocities, mass):\n",
        "    work_done = []  # Create an empty list to store work done at each point\n",
        "    prev_velocity = 0  # Initialize the previous velocity to 0\n",
        "    for velocity in velocities:\n",
        "        # Calculate the change in kinetic energy using the formula\n",
        "        delta_ke = 0.5 * mass * (velocity**2 - prev_velocity**2)\n",
        "        prev_velocity = velocity  # Update the previous velocity for the next iteration\n",
        "        work_done.append(delta_ke)  # Append the calculated work done to the list\n",
        "    return work_done"
      ]
    }
  ]
}
