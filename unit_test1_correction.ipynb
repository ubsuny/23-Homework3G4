{
 "cells": [
  {
   "cell_type": "code",
   "execution_count": 1,
   "metadata": {},
   "outputs": [
    {
     "name": "stdout",
     "output_type": "stream",
     "text": [
      "[9992.238079999997, 29976.714239999994, 49961.1904, 69945.66655999998, -159875.80927999996]\n"
     ]
    }
   ],
   "source": [
    "# Import the required libraries for testing\n",
    "import math\n",
    "\n",
    "# Define a function to calculate work done\n",
    "def calculate_work_done(velocities, mass):\n",
    "    work_done = []\n",
    "    prev_velocity = 0\n",
    "    for velocity in velocities:\n",
    "        delta_ke = 0.5 * mass * (velocity**2 - prev_velocity**2)\n",
    "        prev_velocity = velocity\n",
    "        work_done.append(delta_ke)\n",
    "    return work_done\n",
    "\n",
    "# Define a function to test the calculate_work_done function\n",
    "def test_calculate_work_done():\n",
    "    # Given data\n",
    "    velocities_mph = [10, 20, 30, 40, 0]\n",
    "    mph_to_mps = 0.44704\n",
    "    mass_of_car = 1000\n",
    "\n",
    "    # Convert velocities from mph to m/s using the same lambda function\n",
    "    convert_to_mps = lambda v_mph: v_mph * mph_to_mps\n",
    "    velocities_mps = list(map(convert_to_mps, velocities_mph))\n",
    "\n",
    "    # Calculate the expected work done at each point manually\n",
    "    expected_work_done = []\n",
    "    prev_velocity = 0\n",
    "    for velocity in velocities_mps:\n",
    "        delta_ke = 0.5 * mass_of_car * (velocity**2 - prev_velocity**2)\n",
    "        prev_velocity = velocity\n",
    "        expected_work_done.append(delta_ke)\n",
    "\n",
    "    # Calculate work done using the calculate_work_done function\n",
    "    calculated_work_done = calculate_work_done(velocities_mps, mass_of_car)\n",
    "\n",
    "    # Assert that the calculated work done matches the expected values\n",
    "    for expected, calculated in zip(expected_work_done, calculated_work_done):\n",
    "        assert math.isclose(expected, calculated, rel_tol=1e-9), f\"Expected {expected}, but got {calculated}\"\n",
    "\n",
    "    print(calculated_work_done)\n",
    "\n",
    "# Run the test function\n",
    "test_calculate_work_done()\n"
   ]
  }
 ],
 "metadata": {
  "kernelspec": {
   "display_name": "Python 3",
   "language": "python",
   "name": "python3"
  },
  "language_info": {
   "codemirror_mode": {
    "name": "ipython",
    "version": 3
   },
   "file_extension": ".py",
   "mimetype": "text/x-python",
   "name": "python",
   "nbconvert_exporter": "python",
   "pygments_lexer": "ipython3",
   "version": "3.11.5"
  },
  "orig_nbformat": 4
 },
 "nbformat": 4,
 "nbformat_minor": 2
}
